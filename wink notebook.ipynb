{
 "cells": [
  {
   "cell_type": "code",
   "execution_count": 2,
   "metadata": {},
   "outputs": [],
   "source": [
    "import numpy as np\n",
    "import cv2\n",
    "import os\n",
    "from os import listdir\n",
    "from os.path import isfile, join\n",
    "import sys\n"
   ]
  },
  {
   "cell_type": "code",
   "execution_count": 3,
   "metadata": {},
   "outputs": [],
   "source": [
    "def detectWink(frame, location, ROI, cascade):\n",
    "    eyes = cascade.detectMultiScale(\n",
    "        ROI, 1.15, 3, 0|cv2.CASCADE_SCALE_IMAGE, (10, 20)) \n",
    "    for e in eyes:\n",
    "        e[0] += location[0]\n",
    "        e[1] += location[1]\n",
    "        x, y, w, h = e[0], e[1], e[2], e[3]\n",
    "        \n",
    "        cv2.rectangle(frame, (x,y), (x+w,y+h), (0, 0, 255), 2)\n",
    "    return len(eyes) == 1    # number of eyes is one\n"
   ]
  },
  {
   "cell_type": "code",
   "execution_count": 4,
   "metadata": {},
   "outputs": [],
   "source": [
    "def detect(frame, faceCascade, eyesCascade):\n",
    "    gray_frame = cv2.cvtColor(frame, cv2.COLOR_BGR2GRAY) \n",
    "\n",
    "    # possible frame pre-processing:\n",
    "    # gray_frame = cv2.equalizeHist(gray_frame)\n",
    "    # gray_frame = cv2.medianBlur(gray_frame, 5)\n",
    "\n",
    "    scaleFactor = 1.15 # range is from 1 to ..\n",
    "    minNeighbors = 3   # range is from 0 to ..\n",
    "    flag = 0|cv2.CASCADE_SCALE_IMAGE # either 0 or 0|cv2.CASCADE_SCALE_IMAGE \n",
    "    minSize = (30,30) # range is from (0,0) to ..\n",
    "    faces = faceCascade.detectMultiScale(\n",
    "        gray_frame, \n",
    "        scaleFactor, \n",
    "        minNeighbors, \n",
    "        flag, \n",
    "        minSize)\n",
    "\n",
    "    detected = 0\n",
    "    for f in faces:\n",
    "        x, y, w, h = f[0], f[1], f[2], f[3]\n",
    "        faceROI = gray_frame[y:y+h, x:x+w]\n",
    "        if detectWink(frame, (x, y), faceROI, eyesCascade):\n",
    "            detected += 1\n",
    "            cv2.rectangle(frame, (x,y), (x+w,y+h), (255, 0, 0), 2)\n",
    "        else:\n",
    "            cv2.rectangle(frame, (x,y), (x+w,y+h), (0, 255, 0), 2)\n",
    "    return detected\n",
    "\n"
   ]
  },
  {
   "cell_type": "code",
   "execution_count": 5,
   "metadata": {},
   "outputs": [],
   "source": [
    "def run_on_folder(cascade1, cascade2, folder):\n",
    "    if(folder[-1] != \"/\"):\n",
    "        folder = folder + \"/\"\n",
    "    files = [join(folder,f) for f in listdir(folder) if isfile(join(folder,f))]\n",
    "\n",
    "    windowName = None\n",
    "    totalCount = 0\n",
    "    for f in files:\n",
    "        img = cv2.imread(f)\n",
    "        if type(img) is np.ndarray:\n",
    "            lCnt = detect(img, cascade1, cascade2)\n",
    "            totalCount += lCnt\n",
    "            if windowName != None:\n",
    "                cv2.destroyWindow(windowName)\n",
    "            windowName = f\n",
    "            cv2.namedWindow(windowName, cv2.WINDOW_AUTOSIZE)\n",
    "            cv2.imshow(windowName, img)\n",
    "            cv2.waitKey(0)\n",
    "    return totalCount\n"
   ]
  },
  {
   "cell_type": "code",
   "execution_count": 6,
   "metadata": {},
   "outputs": [],
   "source": [
    "def runonVideo(face_cascade, eyes_cascade):\n",
    "    videocapture = cv2.VideoCapture(0)\n",
    "    if not videocapture.isOpened():\n",
    "        print(\"Can't open default video camera!\")\n",
    "        exit()\n",
    "\n",
    "    windowName = \"Live Video\"\n",
    "    showlive = True\n",
    "    while(showlive):\n",
    "        ret, frame = videocapture.read()\n",
    "\n",
    "        if not ret:\n",
    "            print(\"Can't capture frame\")\n",
    "            exit()\n",
    "\n",
    "        detect(frame, face_cascade, eyes_cascade)\n",
    "        cv2.imshow(windowName, frame)\n",
    "        if cv2.waitKey(30) >= 0:\n",
    "            showlive = False\n",
    "    \n",
    "    # outside the while loop\n",
    "    videocapture.release()\n",
    "    cv2.destroyAllWindows()\n"
   ]
  },
  {
   "cell_type": "code",
   "execution_count": 7,
   "metadata": {},
   "outputs": [
    {
     "name": "stdout",
     "output_type": "stream",
     "text": [
      "/home/rushabh/anaconda3/envs/cv/lib/python3.7/site-packages/ipykernel_launcher.py: got 2arguments. Expecting 0 or 1:[image-folder]\n"
     ]
    }
   ],
   "source": [
    "\n",
    "if __name__ == \"__main__\":\n",
    "    # check command line arguments: nothing or a folderpath\n",
    "    if len(sys.argv) != 1 and len(sys.argv) != 2:\n",
    "        print(sys.argv[0] + \": got \" + str(len(sys.argv) - 1)\n",
    "              + \"arguments. Expecting 0 or 1:[image-folder]\")\n",
    "        exit()\n",
    "\n",
    "    # load pretrained cascades\n",
    "    face_cascade = cv2.CascadeClassifier(cv2.data.haarcascades \n",
    "                                      + 'haarcascade_frontalface_default.xml')\n",
    "    eye_cascade = cv2.CascadeClassifier(cv2.data.haarcascades \n",
    "                                      + 'haarcascade_eye.xml')\n",
    "\n",
    "    if(len(sys.argv) == 2): # one argument\n",
    "        folderName = sys.argv[1]\n",
    "        detections = run_on_folder(face_cascade, eye_cascade, folderName)\n",
    "        print(\"Total of \", detections, \"detections\")\n",
    "    else: # no arguments\n",
    "        runonVideo(face_cascade, eye_cascade)\n",
    "\n"
   ]
  },
  {
   "cell_type": "code",
   "execution_count": null,
   "metadata": {},
   "outputs": [],
   "source": []
  }
 ],
 "metadata": {
  "kernelspec": {
   "display_name": "Python 3",
   "language": "python",
   "name": "python3"
  },
  "language_info": {
   "codemirror_mode": {
    "name": "ipython",
    "version": 3
   },
   "file_extension": ".py",
   "mimetype": "text/x-python",
   "name": "python",
   "nbconvert_exporter": "python",
   "pygments_lexer": "ipython3",
   "version": "3.7.2"
  }
 },
 "nbformat": 4,
 "nbformat_minor": 2
}
